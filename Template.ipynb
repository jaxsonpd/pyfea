{
 "cells": [
  {
   "cell_type": "code",
   "execution_count": null,
   "metadata": {},
   "outputs": [],
   "source": [
    "import numpy as np\n",
    "import matplotlib.pyplot as plt\n",
    "from pyfea import frame, elementInfo\n",
    "import importlib\n",
    "\n",
    "importlib.reload(frame)\n",
    "importlib.reload(elementInfo)"
   ]
  },
  {
   "cell_type": "markdown",
   "metadata": {},
   "source": [
    "# Problem"
   ]
  },
  {
   "cell_type": "code",
   "execution_count": null,
   "metadata": {},
   "outputs": [],
   "source": [
    "# Constants\n",
    "E_1 = E_2 = E_3 =\n",
    "area_1 = area_2 = area_3 = \n",
    "I_1 = I_2 = I_3 = \n",
    "\n",
    "L_1 = \n",
    "L_2 = \n",
    "L_3 = \n",
    "\n",
    "angle_1 =\n",
    "angle_2 =\n",
    "angle_3 ="
   ]
  },
  {
   "cell_type": "code",
   "execution_count": null,
   "metadata": {},
   "outputs": [],
   "source": [
    "# Create elements\n",
    "k_1 = frame.local_frame(E_1, I_1, area_1, L_1)\n",
    "k_2 = frame.local_frame(E_2, I_2, area_2, L_2)\n",
    "k_3 = frame.local_frame(E_3, I_3, area_3, L_3)\n",
    "\n",
    "Khat_1, lambda_1 = frame.global_frame(k_1, angle_1)\n",
    "Khat_2, lambda_2 = frame.global_frame(k_2, angle_2)\n",
    "Khat_3, lambda_3 = frame.global_frame(k_3, angle_3)"
   ]
  },
  {
   "cell_type": "code",
   "execution_count": null,
   "metadata": {},
   "outputs": [],
   "source": [
    "# Assemble\n",
    "A1 = np.array([[0, 0, 0, 0, 0, 0],\n",
    "               [0, 0, 0, 0, 0, 0],\n",
    "               [0, 0, 0, 0, 0, 0],\n",
    "               [0, 0, 0, 0, 0, 0],\n",
    "               [0, 0, 0, 0, 0, 0],\n",
    "               [0, 0, 0, 0, 0, 0]])\n",
    "\n",
    "A2 = np.array([[0, 0, 0, 0, 0, 0],\n",
    "               [0, 0, 0, 0, 0, 0],\n",
    "               [0, 0, 0, 0, 0, 0],\n",
    "               [0, 0, 0, 0, 0, 0],\n",
    "               [0, 0, 0, 0, 0, 0],\n",
    "               [0, 0, 0, 0, 0, 0]])\n",
    "\n",
    "A3 = np.array([[0, 0, 0, 0, 0, 0],\n",
    "               [0, 0, 0, 0, 0, 0],\n",
    "               [0, 0, 0, 0, 0, 0],\n",
    "               [0, 0, 0, 0, 0, 0],\n",
    "               [0, 0, 0, 0, 0, 0],\n",
    "               [0, 0, 0, 0, 0, 0]])\n",
    "\n",
    "KG_1 = frame.assemble_frame(Khat_1, A1)\n",
    "KG_2 = frame.assemble_frame(Khat_2, A2)\n",
    "KG_3 = frame.assemble_frame(Khat_3, A3)\n",
    "\n",
    "KG = KG_1 + KG_2 + KG_3"
   ]
  },
  {
   "cell_type": "code",
   "execution_count": null,
   "metadata": {},
   "outputs": [],
   "source": [
    "# Find forces\n",
    "Q_nodal = np.array([[0],\n",
    "                    [0],\n",
    "                    [0],\n",
    "                    [0],\n",
    "                    [0],\n",
    "                    [0]])\n",
    "\n",
    "# Q_UDL, F_UDL, f_UDL = frame.UDL(L_, wHat, lambda_, A)\n",
    "# Q_LVL, F_LVL, f_LVL = frame.LVL(L_,  wHat, lambda_, A)\n",
    "# Q_point, F_point, f_point = frame.point_load(L_, pHat, lambda_, A)\n",
    "# Q_axial, F_axial, f_axial = frame.axial_point_load(L_, pHat, lambda_, A)\n",
    "# Q_axial_UDL, F_axial_UDL, f_axial_UDL = frame.axial_UDL(L_, wHat, lambda_, A)\n",
    "\n",
    "Q = Q_nodal"
   ]
  },
  {
   "cell_type": "code",
   "execution_count": null,
   "metadata": {},
   "outputs": [],
   "source": [
    "# Find displacements\n",
    "q = np.linalg.solve(KG, Q)\n",
    "print(q)"
   ]
  },
  {
   "cell_type": "code",
   "execution_count": null,
   "metadata": {},
   "outputs": [],
   "source": [
    "# Find element information\n",
    "f_1, d_1 = elementInfo.find_local(k_1, A1, lambda_1, q)\n",
    "f_2, d_2 = elementInfo.find_local(k_2, A2, lambda_2, q)\n",
    "f_3, d_3 = elementInfo.find_local(k_3, A3, lambda_3, q)\n",
    "\n",
    "# Find global force and displacement vectors\n",
    "F_1, D_1 = elementInfo.find_global(Khat_1, A1, q)\n",
    "F_2, D_2 = elementInfo.find_global(Khat_2, A2, q)\n",
    "F_3, D_3 = elementInfo.find_global(Khat_3, A3, q)"
   ]
  },
  {
   "cell_type": "code",
   "execution_count": null,
   "metadata": {},
   "outputs": [],
   "source": [
    "# Plot element\n",
    "disp_scale = 10\n",
    "frame.plot_deflected_frame(0, 0, 0, 0, d_1, disp_scale=disp_scale)\n",
    "frame.plot_deflected_frame(0, 0, 0, 0, d_2, disp_scale=disp_scale)\n",
    "frame.plot_deflected_frame(0, 0, 0, 0, d_3, disp_scale=disp_scale)\n",
    "\n",
    "plt.gca().set_aspect('equal', adjustable='box')"
   ]
  },
  {
   "cell_type": "code",
   "execution_count": null,
   "metadata": {},
   "outputs": [],
   "source": [
    "# find stresses\n",
    "strain_1 = frame.find_strain(d_1, L_1)\n",
    "stress_1 = frame.find_stress(E_1, d_1, L_1)\n",
    "\n",
    "strain_2 = frame.find_strain(d_2, L_2)\n",
    "stress_2 = frame.find_stress(E_2, d_2, L_2)\n",
    "\n",
    "strain_3 = frame.find_strain(d_3, L_3)\n",
    "stress_3 = frame.find_stress(E_3, d_3, L_3)\n",
    "\n",
    "print(\"Strain 1: \", strain_1)\n",
    "print(\"Stress 1: \", stress_1)\n",
    "\n",
    "print(\"Strain 2: \", strain_2)\n",
    "print(\"Stress 2: \", stress_2)\n",
    "\n",
    "print(\"Strain 3: \", strain_3)\n",
    "print(\"Stress 3: \", stress_3)"
   ]
  },
  {
   "cell_type": "code",
   "execution_count": null,
   "metadata": {},
   "outputs": [],
   "source": [
    "# find deflections of point\n",
    "# X_G, Y_G = frame.find_global_point_defelections(L_/2, L_, d_, angle_)\n",
    "# axial, trans = frame.find_local_point_defelections(L_/2, L_, d_)"
   ]
  }
 ],
 "metadata": {
  "language_info": {
   "name": "python"
  },
  "orig_nbformat": 4
 },
 "nbformat": 4,
 "nbformat_minor": 2
}
